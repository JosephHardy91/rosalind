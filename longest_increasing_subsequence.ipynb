{
 "cells": [
  {
   "cell_type": "markdown",
   "metadata": {},
   "source": [
    "A Simple Measure of Gene Order Similarityclick to collapse\n",
    "In “Enumerating Gene Orders”, we started talking about comparing the order of genes on a chromosome taken from two different species and moved around by rearrangements throughout the course of evolution.\n",
    "\n",
    "One very simple way of comparing genes from two chromosomes is to search for the largest collection of genes that are found in the same order in both chromosomes. To do so, we will need to apply our idea of permutations. Say that two chromosomes share n\n",
    " genes; if we label the genes of one chromosome by the numbers 1 through n in the order that they appear, then the second chromosome will be given by a permutation of these numbered genes. To find the largest number of genes appearing in the same order, we need only to find the largest collection of increasing elements in the permutation.\n",
    "\n",
    "Problem\n",
    "A subsequence of a permutation is a collection of elements of the permutation in the order that they appear. For example, (5, 3, 4) is a subsequence of (5, 1, 3, 4, 2).\n",
    "\n",
    "A subsequence is increasing if the elements of the subsequence increase, and decreasing if the elements decrease. For example, given the permutation (8, 2, 1, 6, 5, 7, 4, 3, 9), an increasing subsequence is (2, 6, 7, 9), and a decreasing subsequence is (8, 6, 5, 4, 3). You may verify that these two subsequences are as long as possible.\n",
    "\n",
    "Given: A positive integer n≤10000\n",
    " followed by a permutation π\n",
    " of length n\n",
    ".\n",
    "\n",
    "Return: A longest increasing subsequence of π\n",
    ", followed by a longest decreasing subsequence of π\n",
    ".\n",
    "\n",
    "Sample Dataset\n",
    "\n",
    "5\n",
    "\n",
    "5 1 4 2 3\n",
    "\n",
    "\n",
    "Sample Output\n",
    "\n",
    "1 2 3\n",
    "\n",
    "5 4 2\n",
    "\n",
    "Citationclick to collapse\n",
    "Adapted from Jones & Pevzner, *An Introduction to Bioinformatics Algorithms, Problem 6.48."
   ]
  },
  {
   "cell_type": "markdown",
   "metadata": {},
   "source": [
    "(Mine)\n",
    "Rules for solution:\n",
    "1. Sequence must be increasing\n",
    "2. Sequence can skip base sequence members if they increase in future\n",
    "3. Sequence can contain members from other sequences\n",
    "    3a. I must consider all unique sequence members as their own node, which all increasing subsequences come off of\n",
    "    3b. However, I must keep track of existing sequence members so that I can identify when a subsequence is increasing\n",
    "4. Sequences may be of any length (but less than or equal to n by definition)\n",
    "5. I must keep track of the longest increasing sequence thus far and replace it when a longer sequence is observed\n",
    "\n",
    "Thoughts:\n",
    "\n",
    "I could have an O(n^2) solution, but that would suck. I want an O(n) solution.\n",
    "I need to traverse the sequence one, making sure to collect:\n",
    "* All unique increasing subsequences\n",
    "\n",
    "Tree - \n",
    "5 1 4 2 3\n",
    "Nodes\n",
    "1 2 3 4 5\n",
    "\n",
    "Node 1\n",
    "1-4\n",
    "1-2-3\n",
    "1-3\n",
    "\n",
    "Node 2\n",
    "2-3\n",
    "\n",
    "Node 3\n",
    "3\n",
    "\n",
    "Node 4\n"
   ]
  },
  {
   "cell_type": "code",
   "execution_count": 40,
   "metadata": {},
   "outputs": [],
   "source": [
    "from tqdm import tqdm_notebook as tqdm\n",
    "def get_longest_subsequences(sequence):\n",
    "    #build a tree\n",
    "    increasing_nodes = {\n",
    "\n",
    "    }\n",
    "    decreasing_nodes = {\n",
    "\n",
    "    }\n",
    "    longest_increasing_sequence_length = 0\n",
    "    longest_increasing_sequence = None\n",
    "    longest_decreasing_sequence_length = 0\n",
    "    longest_decreasing_sequence = None\n",
    "    for char in tqdm(map(int,sequence)):\n",
    "        #add char to nodes if not present\n",
    "        if char not in increasing_nodes:\n",
    "            increasing_nodes[char] = [[char]]\n",
    "            if longest_increasing_sequence is None:\n",
    "                longest_increasing_sequence = increasing_nodes[char]\n",
    "                longest_increasing_sequence_length = 1\n",
    "        if char not in decreasing_nodes:\n",
    "            decreasing_nodes[char] = [[char]]\n",
    "            if longest_decreasing_sequence is None:\n",
    "                longest_decreasing_sequence = decreasing_nodes[char]\n",
    "                longest_decreasing_sequence_length = 1\n",
    "            \n",
    "        #check all nodes for sequences that would be increasing if char was added\n",
    "        new_increasing_nodes = increasing_nodes.copy()\n",
    "        new_decreasing_nodes = decreasing_nodes.copy()\n",
    "        for node in list(increasing_nodes.keys()):\n",
    "            if char>node:\n",
    "                for increasing_sequence_i in range(len(increasing_nodes[node])):\n",
    "                    if char > increasing_nodes[node][increasing_sequence_i][-1]:\n",
    "                        new_sequence = increasing_nodes[node][increasing_sequence_i] + [char]\n",
    "                        new_increasing_nodes[node].append(new_sequence)\n",
    "                        increasing_sequence_length = len(new_sequence)\n",
    "                        if increasing_sequence_length > longest_increasing_sequence_length:\n",
    "                            longest_increasing_sequence_length = increasing_sequence_length\n",
    "                            longest_increasing_sequence = new_sequence\n",
    "        increasing_nodes = new_increasing_nodes\n",
    "        for node in list(decreasing_nodes.keys()):\n",
    "            if char<node:\n",
    "                for decreasing_sequence_i in range(len(decreasing_nodes[node])):\n",
    "                    if char < decreasing_nodes[node][decreasing_sequence_i][-1]:\n",
    "                        new_sequence = decreasing_nodes[node][decreasing_sequence_i] + [char]\n",
    "                        new_decreasing_nodes[node].append(new_sequence)\n",
    "                        decreasing_sequence_length = len(new_sequence)\n",
    "                        if decreasing_sequence_length > longest_decreasing_sequence_length:\n",
    "                            longest_decreasing_sequence_length = decreasing_sequence_length\n",
    "                            longest_decreasing_sequence = new_sequence\n",
    "                    \n",
    "                    #TODO: Analyze why this is incorrect (the above was generated by Copilot Chat)\n",
    "                    # if char>nodes[node][increasing_sequence_i][-1]:\n",
    "                    #     new_nodes[node][increasing_sequence_i].append(char)\n",
    "                    #     print(new_nodes)\n",
    "                    #     new_nodes[node].append(nodes[node][increasing_sequence_i])\n",
    "                    #     print(new_nodes)\n",
    "                    #     increasing_sequence_length = len(new_nodes[node][increasing_sequence_i])\n",
    "                    #     if increasing_sequence_length>longest_sequence_length:\n",
    "                    #         longest_sequence_length = increasing_sequence_length\n",
    "                    #         longest_sequence = new_nodes[node][increasing_sequence_i]\n",
    "        decreasing_nodes = new_decreasing_nodes\n",
    "        \n",
    "    return longest_increasing_sequence, longest_decreasing_sequence\n"
   ]
  },
  {
   "cell_type": "code",
   "execution_count": 41,
   "metadata": {},
   "outputs": [
    {
     "name": "stderr",
     "output_type": "stream",
     "text": [
      "/tmp/ipykernel_10161/144711621.py:14: TqdmDeprecationWarning: This function will be removed in tqdm==5.0.0\n",
      "Please use `tqdm.notebook.tqdm` instead of `tqdm.tqdm_notebook`\n",
      "  for char in tqdm(map(int,sequence)):\n"
     ]
    },
    {
     "data": {
      "application/vnd.jupyter.widget-view+json": {
       "model_id": "ac648ce7dad9426b9b578174954343d9",
       "version_major": 2,
       "version_minor": 0
      },
      "text/plain": [
       "0it [00:00, ?it/s]"
      ]
     },
     "metadata": {},
     "output_type": "display_data"
    },
    {
     "data": {
      "text/plain": [
       "([1, 2, 3], [5, 4, 2])"
      ]
     },
     "execution_count": 41,
     "metadata": {},
     "output_type": "execute_result"
    }
   ],
   "source": [
    "test_sequence = [5,1,4,2,3]\n",
    "get_longest_subsequences(test_sequence)"
   ]
  },
  {
   "cell_type": "code",
   "execution_count": 42,
   "metadata": {},
   "outputs": [
    {
     "name": "stdout",
     "output_type": "stream",
     "text": [
      "9171\n"
     ]
    },
    {
     "name": "stderr",
     "output_type": "stream",
     "text": [
      "/tmp/ipykernel_10161/144711621.py:14: TqdmDeprecationWarning: This function will be removed in tqdm==5.0.0\n",
      "Please use `tqdm.notebook.tqdm` instead of `tqdm.tqdm_notebook`\n",
      "  for char in tqdm(map(int,sequence)):\n"
     ]
    },
    {
     "data": {
      "application/vnd.jupyter.widget-view+json": {
       "model_id": "1ee329036b3242d0b1632bcfb4cf065c",
       "version_major": 2,
       "version_minor": 0
      },
      "text/plain": [
       "0it [00:00, ?it/s]"
      ]
     },
     "metadata": {},
     "output_type": "display_data"
    }
   ],
   "source": [
    "sequence = open('rosalind_lgis.txt').read().split('\\n')[1].split(' ')\n",
    "print(len(sequence))\n",
    "get_longest_subsequences(sequence)"
   ]
  },
  {
   "cell_type": "code",
   "execution_count": 30,
   "metadata": {},
   "outputs": [
    {
     "name": "stdout",
     "output_type": "stream",
     "text": [
      "Longest Increasing Subsequence: [2, 3, 6, 7]\n",
      "Longest Decreasing Subsequence: [8, 6, 3]\n",
      "Longest Increasing Subsequence: [1, 5, 7, 9]\n",
      "Longest Decreasing Subsequence: [8, 6, 5, 4, 3]\n"
     ]
    }
   ],
   "source": [
    "#the above is slow as hell\n",
    "#the below is a faster solution\n",
    "def longest_increasing_subsequence(sequence):\n",
    "    n = len(sequence)\n",
    "    lis = [1] * n\n",
    "\n",
    "    for i in range (1, n):\n",
    "        for j in range(0, i):\n",
    "            if sequence[i] > sequence[j] and lis[i] < lis[j] + 1:\n",
    "                lis[i] = lis[j]+1\n",
    "\n",
    "    maximum = max(lis)\n",
    "\n",
    "    result = []\n",
    "    for i in reversed(range(n)):\n",
    "        if maximum == lis[i]:\n",
    "            result.append(sequence[i])\n",
    "            maximum -= 1\n",
    "\n",
    "    return result[::-1]\n",
    "\n",
    "def longest_decreasing_subsequence(sequence):\n",
    "    return longest_increasing_subsequence(sequence[::-1])[::-1]\n",
    "\n",
    "sequence = [5, 2, 8, 6, 3, 6, 9, 7]\n",
    "lis = longest_increasing_subsequence(sequence)\n",
    "lds = longest_decreasing_subsequence(sequence)\n",
    "\n",
    "print(\"Longest Increasing Subsequence:\", lis)\n",
    "print(\"Longest Decreasing Subsequence:\", lds)\n",
    "sequence = [8,2,1,6,5,7,4,3,9]\n",
    "lis = longest_increasing_subsequence(sequence)\n",
    "lds = longest_decreasing_subsequence(sequence)\n",
    "def get_longest_subsequences(sequence):\n",
    "    return longest_increasing_subsequence(sequence), longest_decreasing_subsequence(sequence)\n",
    "print(\"Longest Increasing Subsequence:\", lis)\n",
    "print(\"Longest Decreasing Subsequence:\", lds)"
   ]
  },
  {
   "cell_type": "code",
   "execution_count": 31,
   "metadata": {},
   "outputs": [],
   "source": [
    "def is_monotonic(sequence,reversed=False):\n",
    "    if reversed:\n",
    "        sequence = sequence[::-1]\n",
    "    for i in range(len(sequence)-1):\n",
    "        if sequence[i]>sequence[i+1]:\n",
    "            return False\n",
    "    return True"
   ]
  },
  {
   "cell_type": "code",
   "execution_count": 33,
   "metadata": {},
   "outputs": [],
   "source": [
    "sequence = tuple(map(int,open('rosalind_lgis (4).txt').read().split('\\n')[1].split(' ')))\n",
    "#print(sequence)\n",
    "#print(len(sequence))\n",
    "longest_subsequences = get_longest_subsequences(sequence)\n",
    "assert is_monotonic(longest_subsequences[0]) and is_monotonic(longest_subsequences[1],reversed=True)\n",
    "with open('ls.txt','w') as results:\n",
    "    results.write('\\n'.join([' '.join(map(str,s)) for s in get_longest_subsequences(sequence)]))"
   ]
  },
  {
   "cell_type": "code",
   "execution_count": null,
   "metadata": {},
   "outputs": [],
   "source": [
    "#finally correct..."
   ]
  }
 ],
 "metadata": {
  "kernelspec": {
   "display_name": "base",
   "language": "python",
   "name": "python3"
  },
  "language_info": {
   "codemirror_mode": {
    "name": "ipython",
    "version": 3
   },
   "file_extension": ".py",
   "mimetype": "text/x-python",
   "name": "python",
   "nbconvert_exporter": "python",
   "pygments_lexer": "ipython3",
   "version": "3.11.5"
  }
 },
 "nbformat": 4,
 "nbformat_minor": 2
}
